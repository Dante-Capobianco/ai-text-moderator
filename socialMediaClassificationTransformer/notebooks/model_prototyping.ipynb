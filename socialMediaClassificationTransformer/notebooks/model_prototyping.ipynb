#Experiment with results of various alternatives for transformer
